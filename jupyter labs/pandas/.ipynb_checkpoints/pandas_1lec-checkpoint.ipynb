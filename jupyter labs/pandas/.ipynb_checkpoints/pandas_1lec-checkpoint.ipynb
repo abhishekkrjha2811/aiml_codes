{
 "cells": [
  {
   "cell_type": "code",
   "execution_count": 1,
   "id": "b1023a93-afa6-4ac5-9ba2-dcbe93d6c307",
   "metadata": {},
   "outputs": [],
   "source": [
    "import pandas as pd"
   ]
  },
  {
   "cell_type": "code",
   "execution_count": 2,
   "id": "162fbd15-ee1b-416a-a631-cee43fbbfd2a",
   "metadata": {},
   "outputs": [
    {
     "data": {
      "text/plain": [
       "'2.1.4'"
      ]
     },
     "execution_count": 2,
     "metadata": {},
     "output_type": "execute_result"
    }
   ],
   "source": [
    "pd.__version__"
   ]
  },
  {
   "cell_type": "code",
   "execution_count": 4,
   "id": "e40a74d5-a250-490d-bda6-f00c5ad87f0e",
   "metadata": {},
   "outputs": [
    {
     "name": "stdout",
     "output_type": "stream",
     "text": [
      "[1, 2, -3, 4.4, 'data values']\n"
     ]
    }
   ],
   "source": [
    "list_s= [1,2,-3,4.4,'data values']\n",
    "print(list_s)"
   ]
  },
  {
   "cell_type": "code",
   "execution_count": 5,
   "id": "7a4f1b92-9be9-4a89-876d-d71a7eca6906",
   "metadata": {},
   "outputs": [
    {
     "name": "stdout",
     "output_type": "stream",
     "text": [
      "0              1\n",
      "1              2\n",
      "2             -3\n",
      "3            4.4\n",
      "4    data values\n",
      "dtype: object\n"
     ]
    }
   ],
   "source": [
    "series1=pd.Series(list_s)\n",
    "print(series1)"
   ]
  },
  {
   "cell_type": "code",
   "execution_count": 6,
   "id": "e7e2ae22-f55e-4338-b711-4e3676ce0a99",
   "metadata": {},
   "outputs": [
    {
     "data": {
      "text/plain": [
       "pandas.core.series.Series"
      ]
     },
     "execution_count": 6,
     "metadata": {},
     "output_type": "execute_result"
    }
   ],
   "source": [
    "type(series1)"
   ]
  },
  {
   "cell_type": "code",
   "execution_count": 8,
   "id": "9b6d3987-4042-4025-9f81-16b1fec2935d",
   "metadata": {},
   "outputs": [
    {
     "name": "stdout",
     "output_type": "stream",
     "text": [
      "0    1\n",
      "1    2\n",
      "2    3\n",
      "3    4\n",
      "dtype: int64\n"
     ]
    }
   ],
   "source": [
    "series2=pd.Series([1,2,3,4])\n",
    "print(series2)"
   ]
  },
  {
   "cell_type": "code",
   "execution_count": 11,
   "id": "9fc6e1ab-b830-4ad5-9136-b4ba01112e75",
   "metadata": {},
   "outputs": [
    {
     "name": "stdout",
     "output_type": "stream",
     "text": [
      "Series([], dtype: object)\n"
     ]
    }
   ],
   "source": [
    "empty_s=pd.Series([])\n",
    "print(empty_s)"
   ]
  },
  {
   "cell_type": "code",
   "execution_count": 12,
   "id": "4e508c19-6dc5-43a7-86f2-83c6c28a76d7",
   "metadata": {},
   "outputs": [
    {
     "name": "stdout",
     "output_type": "stream",
     "text": [
      "a    1\n",
      "b    2\n",
      "c    3\n",
      "d    4\n",
      "dtype: int64\n"
     ]
    }
   ],
   "source": [
    "series3=pd.Series([1,2,3,4],index=['a','b','c','d'])\n",
    "print(series3)"
   ]
  },
  {
   "cell_type": "code",
   "execution_count": null,
   "id": "0368515f-50b7-4d66-941b-e9df9bd1f88d",
   "metadata": {},
   "outputs": [],
   "source": []
  }
 ],
 "metadata": {
  "kernelspec": {
   "display_name": "Python 3 (ipykernel)",
   "language": "python",
   "name": "python3"
  },
  "language_info": {
   "codemirror_mode": {
    "name": "ipython",
    "version": 3
   },
   "file_extension": ".py",
   "mimetype": "text/x-python",
   "name": "python",
   "nbconvert_exporter": "python",
   "pygments_lexer": "ipython3",
   "version": "3.11.7"
  }
 },
 "nbformat": 4,
 "nbformat_minor": 5
}
