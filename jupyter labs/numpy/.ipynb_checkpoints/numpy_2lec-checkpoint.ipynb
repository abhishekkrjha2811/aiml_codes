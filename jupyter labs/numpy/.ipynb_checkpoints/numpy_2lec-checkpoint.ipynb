{
 "cells": [
  {
   "cell_type": "code",
   "execution_count": 19,
   "id": "befaa8d5-23b4-4133-bd06-c38912a812ef",
   "metadata": {},
   "outputs": [],
   "source": [
    "import numpy as np"
   ]
  },
  {
   "cell_type": "markdown",
   "id": "f06b2375-c679-4313-98c9-6f28c7140b4e",
   "metadata": {},
   "source": [
    "# basic matrix cmd:"
   ]
  },
  {
   "cell_type": "code",
   "execution_count": 2,
   "id": "961e73a4-428e-471d-9649-d41f041e419a",
   "metadata": {},
   "outputs": [
    {
     "name": "stdout",
     "output_type": "stream",
     "text": [
      "[[1 1 1]\n",
      " [1 1 1]\n",
      " [1 1 1]]\n"
     ]
    }
   ],
   "source": [
    "mx_1s= np.array([[1,1,1],[1,1,1],[1,1,1]])\n",
    "print(mx_1s)"
   ]
  },
  {
   "cell_type": "code",
   "execution_count": 6,
   "id": "95cf63b8-0b58-49e1-8090-5604068b2964",
   "metadata": {},
   "outputs": [
    {
     "name": "stdout",
     "output_type": "stream",
     "text": [
      "[1 1 1 1]\n"
     ]
    }
   ],
   "source": [
    "mx_1s = np.ones((4),dtype=int)\n",
    "print(mx_1s)"
   ]
  },
  {
   "cell_type": "code",
   "execution_count": 7,
   "id": "4c570c15-3c6f-4825-b56c-3dca9464fe9d",
   "metadata": {},
   "outputs": [
    {
     "data": {
      "text/plain": [
       "dtype('int32')"
      ]
     },
     "execution_count": 7,
     "metadata": {},
     "output_type": "execute_result"
    }
   ],
   "source": [
    "mx_1s.dtype"
   ]
  },
  {
   "cell_type": "code",
   "execution_count": 8,
   "id": "16b2dbfb-65d6-4461-9196-f5a6688eddc6",
   "metadata": {},
   "outputs": [
    {
     "name": "stdout",
     "output_type": "stream",
     "text": [
      "[[1. 1. 1. 1. 1.]\n",
      " [1. 1. 1. 1. 1.]\n",
      " [1. 1. 1. 1. 1.]]\n"
     ]
    }
   ],
   "source": [
    "mx_1s = np.ones((3,5))\n",
    "print(mx_1s)"
   ]
  },
  {
   "cell_type": "code",
   "execution_count": 9,
   "id": "e737281d-7bdd-41ae-be62-13f8d7579c44",
   "metadata": {},
   "outputs": [
    {
     "data": {
      "text/plain": [
       "dtype('float64')"
      ]
     },
     "execution_count": 9,
     "metadata": {},
     "output_type": "execute_result"
    }
   ],
   "source": [
    "mx_1s.dtype"
   ]
  },
  {
   "cell_type": "code",
   "execution_count": 11,
   "id": "a20f6b1e-fd06-4ad6-8ce6-bf5f68479818",
   "metadata": {},
   "outputs": [
    {
     "name": "stdout",
     "output_type": "stream",
     "text": [
      "[[0. 0. 0.]\n",
      " [0. 0. 0.]]\n"
     ]
    }
   ],
   "source": [
    "mx_0s=np.zeros((2,3))\n",
    "print(mx_0s)"
   ]
  },
  {
   "cell_type": "code",
   "execution_count": 12,
   "id": "e78fe3de-d25d-4267-8f4b-77840f93243b",
   "metadata": {},
   "outputs": [
    {
     "name": "stdout",
     "output_type": "stream",
     "text": [
      "[[0 0 0]\n",
      " [0 0 0]]\n"
     ]
    }
   ],
   "source": [
    "mx_0s=np.zeros((2,3) , dtype=int)\n",
    "print(mx_0s)"
   ]
  },
  {
   "cell_type": "code",
   "execution_count": 13,
   "id": "e417ed49-e2dc-460e-a6d0-57286ee10f41",
   "metadata": {},
   "outputs": [
    {
     "name": "stdout",
     "output_type": "stream",
     "text": [
      "[[False False False]\n",
      " [False False False]]\n"
     ]
    }
   ],
   "source": [
    "mx_0s=np.zeros((2,3) , dtype=bool)\n",
    "print(mx_0s)"
   ]
  },
  {
   "cell_type": "code",
   "execution_count": 14,
   "id": "4470d590-3ccd-4743-b3e3-509233f29b27",
   "metadata": {},
   "outputs": [
    {
     "name": "stdout",
     "output_type": "stream",
     "text": [
      "[['' '' '']\n",
      " ['' '' '']]\n"
     ]
    }
   ],
   "source": [
    "mx_0s=np.zeros((2,3) , dtype=str)\n",
    "print(mx_0s)"
   ]
  },
  {
   "cell_type": "code",
   "execution_count": 16,
   "id": "db79c54b-0df4-4e90-99ac-cf4f42adfedf",
   "metadata": {},
   "outputs": [
    {
     "name": "stdout",
     "output_type": "stream",
     "text": [
      "False\n"
     ]
    }
   ],
   "source": [
    "em_str=''\n",
    "print(bool(em_str))\n"
   ]
  },
  {
   "cell_type": "code",
   "execution_count": 17,
   "id": "60166540-65b0-44c2-92eb-80883ff67088",
   "metadata": {},
   "outputs": [
    {
     "name": "stdout",
     "output_type": "stream",
     "text": [
      "[[1.01107843e-311 3.16202013e-322 0.00000000e+000 0.00000000e+000]\n",
      " [1.16709769e-312 1.32656714e-075 1.43710628e-071 2.34442841e-056]\n",
      " [1.10844689e-047 1.42024661e+161 1.00105155e+165 1.00713899e-046]]\n"
     ]
    }
   ],
   "source": [
    "em_mx =np.empty((3,4))\n",
    "print(em_mx)"
   ]
  },
  {
   "cell_type": "code",
   "execution_count": 18,
   "id": "eb39bc66-6c91-4f5b-86a5-29f6af991d2e",
   "metadata": {},
   "outputs": [],
   "source": [
    "#empty matrix have any data in it it cannt be empty "
   ]
  },
  {
   "cell_type": "code",
   "execution_count": null,
   "id": "f9cfc35a-8eb5-415b-8fac-2572cec4f227",
   "metadata": {},
   "outputs": [],
   "source": []
  }
 ],
 "metadata": {
  "kernelspec": {
   "display_name": "Python 3 (ipykernel)",
   "language": "python",
   "name": "python3"
  },
  "language_info": {
   "codemirror_mode": {
    "name": "ipython",
    "version": 3
   },
   "file_extension": ".py",
   "mimetype": "text/x-python",
   "name": "python",
   "nbconvert_exporter": "python",
   "pygments_lexer": "ipython3",
   "version": "3.11.7"
  }
 },
 "nbformat": 4,
 "nbformat_minor": 5
}
