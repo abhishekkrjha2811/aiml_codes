{
 "cells": [
  {
   "cell_type": "markdown",
   "id": "723b14a7-6d53-4bce-ae79-52602fb6b2a7",
   "metadata": {},
   "source": [
    "# NUMPY FUNCTION:"
   ]
  },
  {
   "cell_type": "code",
   "execution_count": 1,
   "id": "5f536b3d-0c14-4705-9f79-086cd930784e",
   "metadata": {},
   "outputs": [],
   "source": [
    " import numpy as np"
   ]
  },
  {
   "cell_type": "markdown",
   "id": "f1745af0-764c-414e-a1eb-dd0ee990b0cc",
   "metadata": {},
   "source": [
    "# arange() :"
   ]
  },
  {
   "cell_type": "code",
   "execution_count": 2,
   "id": "be5b5f7e-8813-4c30-b9bb-f21765c02712",
   "metadata": {},
   "outputs": [
    {
     "name": "stdout",
     "output_type": "stream",
     "text": [
      "[ 1  2  3  4  5  6  7  8  9 10 11 12]\n"
     ]
    }
   ],
   "source": [
    "#np.arange(start, end,steps)\n",
    "arr_1d=np.arange(1,13)\n",
    "print(arr_1d)"
   ]
  },
  {
   "cell_type": "code",
   "execution_count": 8,
   "id": "0d2302fc-5d0e-45f1-bea5-18a0cef1dcde",
   "metadata": {},
   "outputs": [
    {
     "name": "stdout",
     "output_type": "stream",
     "text": [
      "[ 1  3  5  7  9 11]\n"
     ]
    }
   ],
   "source": [
    "odd_arr=np.arange(1,13,2)\n",
    "print(odd_arr)"
   ]
  },
  {
   "cell_type": "markdown",
   "id": "78401a19-e889-4e73-b439-dd23cf39e746",
   "metadata": {},
   "source": [
    "# linspace () :"
   ]
  },
  {
   "cell_type": "code",
   "execution_count": 10,
   "id": "6ed35e86-f941-447e-821c-f834b8467fab",
   "metadata": {},
   "outputs": [
    {
     "data": {
      "text/plain": [
       "array([1.        , 2.33333333, 3.66666667, 5.        ])"
      ]
     },
     "execution_count": 10,
     "metadata": {},
     "output_type": "execute_result"
    }
   ],
   "source": [
    "np.linspace(1,5,4)"
   ]
  },
  {
   "cell_type": "markdown",
   "id": "e2d8675e-f357-4a2e-bb94-c3d215f4b6d1",
   "metadata": {},
   "source": [
    "# reshape() :"
   ]
  },
  {
   "cell_type": "code",
   "execution_count": 12,
   "id": "6a6c7319-f904-4913-af4c-bfc6c1781f06",
   "metadata": {},
   "outputs": [
    {
     "name": "stdout",
     "output_type": "stream",
     "text": [
      "[[ 1  2  3  4]\n",
      " [ 5  6  7  8]\n",
      " [ 9 10 11 12]]\n"
     ]
    }
   ],
   "source": [
    "ar_2d=arr_1d.reshape(3,4)\n",
    "print(ar_2d)"
   ]
  },
  {
   "cell_type": "code",
   "execution_count": 14,
   "id": "de607b6c-e236-4cd1-bd7d-cc6a9c67def1",
   "metadata": {},
   "outputs": [
    {
     "name": "stdout",
     "output_type": "stream",
     "text": [
      "[[[ 1  2]\n",
      "  [ 3  4]\n",
      "  [ 5  6]]\n",
      "\n",
      " [[ 7  8]\n",
      "  [ 9 10]\n",
      "  [11 12]]]\n"
     ]
    }
   ],
   "source": [
    "ar_3d=arr_1d.reshape(2,3,2)\n",
    "print(ar_3d)"
   ]
  },
  {
   "cell_type": "code",
   "execution_count": 17,
   "id": "85cd4c64-eaa2-49c1-9617-0b303e9deb69",
   "metadata": {},
   "outputs": [
    {
     "name": "stdout",
     "output_type": "stream",
     "text": [
      "[[ 1  2  3  4  5  6]\n",
      " [ 7  8  9 10 11 12]\n",
      " [13 14 15 16 17 18]]\n"
     ]
    }
   ],
   "source": [
    "ar =np.arange(1,19).reshape(3,6)\n",
    "print(ar)"
   ]
  },
  {
   "cell_type": "markdown",
   "id": "28b7028c-7e71-425f-987e-572439f2c2f4",
   "metadata": {},
   "source": [
    "# ravel () :"
   ]
  },
  {
   "cell_type": "code",
   "execution_count": 18,
   "id": "76b9da97-6b0e-40ae-a1c9-f012c2110aca",
   "metadata": {},
   "outputs": [
    {
     "data": {
      "text/plain": [
       "array([ 1,  2,  3,  4,  5,  6,  7,  8,  9, 10, 11, 12, 13, 14, 15, 16, 17,\n",
       "       18])"
      ]
     },
     "execution_count": 18,
     "metadata": {},
     "output_type": "execute_result"
    }
   ],
   "source": [
    "ar.ravel()"
   ]
  },
  {
   "cell_type": "markdown",
   "id": "63d14859-f3bb-4273-a55f-39eb4d9cdec3",
   "metadata": {},
   "source": [
    "# flatten ()  :"
   ]
  },
  {
   "cell_type": "code",
   "execution_count": 19,
   "id": "bb27a3b1-980d-4567-b72f-2f2acb74b348",
   "metadata": {},
   "outputs": [
    {
     "data": {
      "text/plain": [
       "array([ 1,  2,  3,  4,  5,  6,  7,  8,  9, 10, 11, 12, 13, 14, 15, 16, 17,\n",
       "       18])"
      ]
     },
     "execution_count": 19,
     "metadata": {},
     "output_type": "execute_result"
    }
   ],
   "source": [
    "ar.flatten()"
   ]
  },
  {
   "cell_type": "markdown",
   "id": "62746d48-f39d-4e46-90a8-5eaf1e76cb10",
   "metadata": {},
   "source": [
    "# transpose () :"
   ]
  },
  {
   "cell_type": "code",
   "execution_count": 20,
   "id": "0769f5b3-6b48-4538-8b9d-4aaa3442f631",
   "metadata": {},
   "outputs": [
    {
     "data": {
      "text/plain": [
       "array([[ 1,  7, 13],\n",
       "       [ 2,  8, 14],\n",
       "       [ 3,  9, 15],\n",
       "       [ 4, 10, 16],\n",
       "       [ 5, 11, 17],\n",
       "       [ 6, 12, 18]])"
      ]
     },
     "execution_count": 20,
     "metadata": {},
     "output_type": "execute_result"
    }
   ],
   "source": [
    "ar.transpose()"
   ]
  },
  {
   "cell_type": "code",
   "execution_count": 21,
   "id": "9cc362e3-5208-439c-b8ca-e1032f362c69",
   "metadata": {},
   "outputs": [
    {
     "data": {
      "text/plain": [
       "array([[ 1,  7, 13],\n",
       "       [ 2,  8, 14],\n",
       "       [ 3,  9, 15],\n",
       "       [ 4, 10, 16],\n",
       "       [ 5, 11, 17],\n",
       "       [ 6, 12, 18]])"
      ]
     },
     "execution_count": 21,
     "metadata": {},
     "output_type": "execute_result"
    }
   ],
   "source": [
    "ar.T"
   ]
  },
  {
   "cell_type": "code",
   "execution_count": null,
   "id": "d11ccf70-2b99-42e9-9d13-b3dd4c56cfa6",
   "metadata": {},
   "outputs": [],
   "source": []
  }
 ],
 "metadata": {
  "kernelspec": {
   "display_name": "Python 3 (ipykernel)",
   "language": "python",
   "name": "python3"
  },
  "language_info": {
   "codemirror_mode": {
    "name": "ipython",
    "version": 3
   },
   "file_extension": ".py",
   "mimetype": "text/x-python",
   "name": "python",
   "nbconvert_exporter": "python",
   "pygments_lexer": "ipython3",
   "version": "3.11.7"
  }
 },
 "nbformat": 4,
 "nbformat_minor": 5
}
