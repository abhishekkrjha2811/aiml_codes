{
 "cells": [
  {
   "cell_type": "markdown",
   "id": "a067dd46-96c5-4f24-9a9d-a23f7dc7e8bf",
   "metadata": {},
   "source": [
    "# string operation, comparison and information"
   ]
  },
  {
   "cell_type": "code",
   "execution_count": 1,
   "id": "ecbcda52-f124-4630-8850-af5b94134285",
   "metadata": {},
   "outputs": [],
   "source": [
    "import numpy as np"
   ]
  },
  {
   "cell_type": "code",
   "execution_count": 5,
   "id": "3079a02d-0466-44cf-b918-23e0770d5808",
   "metadata": {},
   "outputs": [],
   "source": [
    "ch_name =\"Hi I Like You\"\n",
    "str1=\"but not you bitch\""
   ]
  },
  {
   "cell_type": "code",
   "execution_count": 6,
   "id": "5c604253-a672-412a-bf5e-2cd18430b4fa",
   "metadata": {},
   "outputs": [
    {
     "data": {
      "text/plain": [
       "array('Hi I Like Youbut not you bitch', dtype='<U30')"
      ]
     },
     "execution_count": 6,
     "metadata": {},
     "output_type": "execute_result"
    }
   ],
   "source": [
    "np.char.add(ch_name,str1)"
   ]
  },
  {
   "cell_type": "code",
   "execution_count": 7,
   "id": "9c6c285e-6936-4b24-8b43-6802c96a395d",
   "metadata": {},
   "outputs": [
    {
     "data": {
      "text/plain": [
       "array('hi i like you', dtype='<U13')"
      ]
     },
     "execution_count": 7,
     "metadata": {},
     "output_type": "execute_result"
    }
   ],
   "source": [
    "np.char.lower(ch_name)"
   ]
  },
  {
   "cell_type": "code",
   "execution_count": 8,
   "id": "29fa096b-f1e9-4896-b302-e13214eee924",
   "metadata": {},
   "outputs": [
    {
     "data": {
      "text/plain": [
       "array('BUT NOT YOU BITCH', dtype='<U17')"
      ]
     },
     "execution_count": 8,
     "metadata": {},
     "output_type": "execute_result"
    }
   ],
   "source": [
    "np.char.upper(str1)"
   ]
  },
  {
   "cell_type": "code",
   "execution_count": 11,
   "id": "d83a5d4b-c6bf-467d-ad37-9f379d53f750",
   "metadata": {},
   "outputs": [
    {
     "data": {
      "text/plain": [
       "array('#####################but not you bitch######################',\n",
       "      dtype='<U60')"
      ]
     },
     "execution_count": 11,
     "metadata": {},
     "output_type": "execute_result"
    }
   ],
   "source": [
    "np.char.center(str1,60,fillchar=\"#\")"
   ]
  },
  {
   "cell_type": "code",
   "execution_count": 12,
   "id": "bd5d0a03-6a77-4b47-b6e1-f7dfcd35939f",
   "metadata": {},
   "outputs": [
    {
     "data": {
      "text/plain": [
       "array(list(['Hi', 'I', 'Like', 'You']), dtype=object)"
      ]
     },
     "execution_count": 12,
     "metadata": {},
     "output_type": "execute_result"
    }
   ],
   "source": [
    "np.char.split(ch_name)"
   ]
  },
  {
   "cell_type": "code",
   "execution_count": 14,
   "id": "884f4959-218a-4d94-bda8-fe0311afde16",
   "metadata": {},
   "outputs": [
    {
     "data": {
      "text/plain": [
       "array(list(['hello', 'Indian']), dtype=object)"
      ]
     },
     "execution_count": 14,
     "metadata": {},
     "output_type": "execute_result"
    }
   ],
   "source": [
    "np.char.splitlines(\"hello\\nIndian\")"
   ]
  },
  {
   "cell_type": "code",
   "execution_count": 32,
   "id": "59177287-6f54-46b9-b66e-e6153f7db766",
   "metadata": {},
   "outputs": [],
   "source": [
    "str4=\"dmy\"\n",
    "str5=\"dmy\""
   ]
  },
  {
   "cell_type": "code",
   "execution_count": 20,
   "id": "dc1d3d8f-3eda-4e1f-94ad-e12c3eda0e02",
   "metadata": {},
   "outputs": [
    {
     "data": {
      "text/plain": [
       "array(['d:m:y', 'd/m/y'], dtype='<U5')"
      ]
     },
     "execution_count": 20,
     "metadata": {},
     "output_type": "execute_result"
    }
   ],
   "source": [
    "np.char.join( [\":\",\"/\"],[str4,str5] )"
   ]
  },
  {
   "cell_type": "code",
   "execution_count": 27,
   "id": "15749c92-acf7-4da5-b535-0b71b87c8e1a",
   "metadata": {},
   "outputs": [
    {
     "data": {
      "text/plain": [
       "array('Hi I Like ADANI KAA INDIA', dtype='<U25')"
      ]
     },
     "execution_count": 27,
     "metadata": {},
     "output_type": "execute_result"
    }
   ],
   "source": [
    "np.char.replace(ch_name, \"You\",\"ADANI KAA INDIA\")"
   ]
  },
  {
   "cell_type": "code",
   "execution_count": 28,
   "id": "f7cfd413-d273-4149-bb70-bf13e8813081",
   "metadata": {},
   "outputs": [
    {
     "data": {
      "text/plain": [
       "'Hi I Like You'"
      ]
     },
     "execution_count": 28,
     "metadata": {},
     "output_type": "execute_result"
    }
   ],
   "source": [
    "ch_name"
   ]
  },
  {
   "cell_type": "code",
   "execution_count": 33,
   "id": "fb9bb9e0-7f40-4e32-89df-8282cfc5b339",
   "metadata": {},
   "outputs": [
    {
     "data": {
      "text/plain": [
       "array(True)"
      ]
     },
     "execution_count": 33,
     "metadata": {},
     "output_type": "execute_result"
    }
   ],
   "source": [
    "np.char.equal(str4,str5)"
   ]
  },
  {
   "cell_type": "code",
   "execution_count": 35,
   "id": "7973a4bc-db07-4aaf-b646-54f0b7b78a4d",
   "metadata": {},
   "outputs": [
    {
     "data": {
      "text/plain": [
       "array(2)"
      ]
     },
     "execution_count": 35,
     "metadata": {},
     "output_type": "execute_result"
    }
   ],
   "source": [
    "np.char.count(ch_name,\"i\")  #it count \"i\" in ch_name"
   ]
  },
  {
   "cell_type": "code",
   "execution_count": 37,
   "id": "79260af0-e947-42ac-a8ff-ebf097c0c921",
   "metadata": {},
   "outputs": [
    {
     "data": {
      "text/plain": [
       "array(10)"
      ]
     },
     "execution_count": 37,
     "metadata": {},
     "output_type": "execute_result"
    }
   ],
   "source": [
    "np.char.find(ch_name,\"You\")"
   ]
  },
  {
   "cell_type": "code",
   "execution_count": 38,
   "id": "f911488d-75f4-4c3f-88e1-6792dc3b8c54",
   "metadata": {},
   "outputs": [
    {
     "data": {
      "text/plain": [
       "'Hi I Like You'"
      ]
     },
     "execution_count": 38,
     "metadata": {},
     "output_type": "execute_result"
    }
   ],
   "source": [
    "ch_name"
   ]
  },
  {
   "cell_type": "code",
   "execution_count": null,
   "id": "00ad61cd-4bb7-4de6-a0f5-d092974b3c4f",
   "metadata": {},
   "outputs": [],
   "source": []
  }
 ],
 "metadata": {
  "kernelspec": {
   "display_name": "Python 3 (ipykernel)",
   "language": "python",
   "name": "python3"
  },
  "language_info": {
   "codemirror_mode": {
    "name": "ipython",
    "version": 3
   },
   "file_extension": ".py",
   "mimetype": "text/x-python",
   "name": "python",
   "nbconvert_exporter": "python",
   "pygments_lexer": "ipython3",
   "version": "3.11.7"
  }
 },
 "nbformat": 4,
 "nbformat_minor": 5
}
