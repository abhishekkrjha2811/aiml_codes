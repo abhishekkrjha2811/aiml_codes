{
 "cells": [
  {
   "cell_type": "code",
   "execution_count": 4,
   "id": "883145d8-1294-4070-aea4-64c887a6601f",
   "metadata": {},
   "outputs": [],
   "source": [
    "import numpy as np"
   ]
  },
  {
   "cell_type": "code",
   "execution_count": 5,
   "id": "d25fbcc8-f46b-4bfb-bb5b-ad85738114da",
   "metadata": {},
   "outputs": [
    {
     "name": "stdout",
     "output_type": "stream",
     "text": [
      "[1 2 3 4]\n"
     ]
    }
   ],
   "source": [
    "arr_id = np.array([1,2,3,4])\n",
    "print(arr_id)"
   ]
  },
  {
   "cell_type": "code",
   "execution_count": 6,
   "id": "ee69caaa-049d-478f-865f-3cd34ecc69d6",
   "metadata": {},
   "outputs": [
    {
     "data": {
      "text/plain": [
       "numpy.ndarray"
      ]
     },
     "execution_count": 6,
     "metadata": {},
     "output_type": "execute_result"
    }
   ],
   "source": [
    "type(arr_id)"
   ]
  },
  {
   "cell_type": "code",
   "execution_count": 9,
   "id": "f49020e2-ecc4-425b-aa77-2111c16b6e6e",
   "metadata": {},
   "outputs": [
    {
     "data": {
      "text/plain": [
       "1"
      ]
     },
     "execution_count": 9,
     "metadata": {},
     "output_type": "execute_result"
    }
   ],
   "source": [
    "arr_id.ndim"
   ]
  },
  {
   "cell_type": "code",
   "execution_count": 10,
   "id": "5a2cee68-1ee3-4b40-a610-65dc58ec0a45",
   "metadata": {},
   "outputs": [],
   "source": [
    "#creating 2d array"
   ]
  },
  {
   "cell_type": "code",
   "execution_count": 11,
   "id": "85695988-2fc1-43b2-851f-7e11f2b55c00",
   "metadata": {},
   "outputs": [
    {
     "name": "stdout",
     "output_type": "stream",
     "text": [
      "[[1 2 3 4]\n",
      " [3 2 4 2]]\n"
     ]
    }
   ],
   "source": [
    "arr_2d= np.array([[1,2,3,4],[3,2,4,2]])\n",
    "print(arr_2d)"
   ]
  },
  {
   "cell_type": "code",
   "execution_count": 12,
   "id": "24651bcd-aa0d-41b6-af73-338aead1b945",
   "metadata": {},
   "outputs": [
    {
     "data": {
      "text/plain": [
       "numpy.ndarray"
      ]
     },
     "execution_count": 12,
     "metadata": {},
     "output_type": "execute_result"
    }
   ],
   "source": [
    "type(arr_2d)"
   ]
  },
  {
   "cell_type": "code",
   "execution_count": 14,
   "id": "7b3beee1-16a1-4b3e-ad24-3bd0ac5422e0",
   "metadata": {},
   "outputs": [
    {
     "data": {
      "text/plain": [
       "8"
      ]
     },
     "execution_count": 14,
     "metadata": {},
     "output_type": "execute_result"
    }
   ],
   "source": [
    "arr_2d.size"
   ]
  },
  {
   "cell_type": "code",
   "execution_count": 15,
   "id": "148a221d-bea7-46b8-bc3f-af8bcc09eaec",
   "metadata": {},
   "outputs": [
    {
     "data": {
      "text/plain": [
       "dtype('int32')"
      ]
     },
     "execution_count": 15,
     "metadata": {},
     "output_type": "execute_result"
    }
   ],
   "source": [
    "arr_2d.dtype"
   ]
  },
  {
   "cell_type": "code",
   "execution_count": 16,
   "id": "698cd7c8-27ff-4477-84c0-2304efc9c23d",
   "metadata": {},
   "outputs": [
    {
     "data": {
      "text/plain": [
       "dtype('int32')"
      ]
     },
     "execution_count": 16,
     "metadata": {},
     "output_type": "execute_result"
    }
   ],
   "source": [
    "arr_id.dtype"
   ]
  },
  {
   "cell_type": "code",
   "execution_count": 17,
   "id": "0a89ada2-0e4b-4120-9c80-8c5a82427a8a",
   "metadata": {},
   "outputs": [
    {
     "data": {
      "text/plain": [
       "(2, 4)"
      ]
     },
     "execution_count": 17,
     "metadata": {},
     "output_type": "execute_result"
    }
   ],
   "source": [
    "arr_2d.shape"
   ]
  },
  {
   "cell_type": "code",
   "execution_count": 18,
   "id": "b7e7c461-3d4d-492c-8e75-edd7ec50a098",
   "metadata": {},
   "outputs": [],
   "source": [
    "#(2,4) =(rows,coloumn)"
   ]
  },
  {
   "cell_type": "code",
   "execution_count": 19,
   "id": "d4149546-8629-4e4c-9e17-d256be9f3e98",
   "metadata": {},
   "outputs": [
    {
     "data": {
      "text/plain": [
       "2"
      ]
     },
     "execution_count": 19,
     "metadata": {},
     "output_type": "execute_result"
    }
   ],
   "source": [
    "arr_2d.ndim"
   ]
  },
  {
   "cell_type": "code",
   "execution_count": null,
   "id": "a847b933-5a6c-4d45-b60d-891c6c45bfcf",
   "metadata": {},
   "outputs": [],
   "source": []
  }
 ],
 "metadata": {
  "kernelspec": {
   "display_name": "Python 3 (ipykernel)",
   "language": "python",
   "name": "python3"
  },
  "language_info": {
   "codemirror_mode": {
    "name": "ipython",
    "version": 3
   },
   "file_extension": ".py",
   "mimetype": "text/x-python",
   "name": "python",
   "nbconvert_exporter": "python",
   "pygments_lexer": "ipython3",
   "version": "3.11.7"
  }
 },
 "nbformat": 4,
 "nbformat_minor": 5
}
